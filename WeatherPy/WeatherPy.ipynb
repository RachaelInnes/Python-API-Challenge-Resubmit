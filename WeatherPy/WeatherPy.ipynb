{
 "cells": [
  {
   "cell_type": "markdown",
   "metadata": {},
   "source": [
    "# WeatherPy\n",
    "\n",
    "---\n",
    "\n",
    "Generate Random Geographic Coordinates and a List of Cities"
   ]
  },
  {
   "cell_type": "code",
   "execution_count": null,
   "metadata": {
    "scrolled": true
   },
   "outputs": [],
   "source": [
    "# Dependencies and Setup\n",
    "import matplotlib.pyplot as plt\n",
    "import pandas as pd\n",
    "import numpy as np\n",
    "import requests\n",
    "import time\n",
    "from scipy.stats import linregress\n",
    "\n",
    "# Impor the OpenWeatherMap API key\n",
    "from api_keys import weather_api_key\n",
    "\n",
    "# Import citipy to determine the cities based on latitude and longitude\n",
    "from citipy import citipy"
   ]
  },
  {
   "cell_type": "markdown",
   "metadata": {},
   "source": [
    "### Generate the Cities List by Using the `citipy` Library"
   ]
  },
  {
   "cell_type": "code",
   "execution_count": null,
   "metadata": {},
   "outputs": [],
   "source": [
    "# Empty list for holding the latitude and longitude combinations\n",
    "lat_lngs = []\n",
    "\n",
    "# Empty list for holding the cities names\n",
    "cities = []\n",
    "\n",
    "# Range of latitudes and longitudes\n",
    "lat_range = (-90, 90)\n",
    "lng_range = (-180, 180)\n",
    "\n",
    "# Create a set of random lat and lng combinations\n",
    "lats = np.random.uniform(lat_range[0], lat_range[1], size=1500)\n",
    "lngs = np.random.uniform(lng_range[0], lng_range[1], size=1500)\n",
    "lat_lngs = zip(lats, lngs)\n",
    "\n",
    "# Identify nearest city for each lat, lng combination\n",
    "for lat_lng in lat_lngs:\n",
    "    city = citipy.nearest_city(lat_lng[0], lat_lng[1]).city_name\n",
    "\n",
    "    # If the city is unique, then add it to a our cities list\n",
    "    if city not in cities:\n",
    "        cities.append(city)\n",
    "\n",
    "# Print the city count to confirm sufficient count\n",
    "print(f\"Number of cities in the list: {len(cities)}\")"
   ]
  },
  {
   "cell_type": "markdown",
   "metadata": {},
   "source": [
    "---"
   ]
  },
  {
   "cell_type": "markdown",
   "metadata": {},
   "source": [
    "## Requirement 1: Create Plots to Showcase the Relationship Between Weather Variables and Latitude\n",
    "\n",
    "### Use the OpenWeatherMap API to retrieve weather data from the cities list generated."
   ]
  },
  {
   "cell_type": "code",
   "execution_count": null,
   "metadata": {},
   "outputs": [],
   "source": [
    "# Set the API base URL\n",
    "url = \"http://api.openweathermap.org/data/2.5/weather\"\n",
    "\n",
    "# Define an empty list to fetch the weather data for each city\n",
    "city_data = []\n",
    "\n",
    "# Print to logger\n",
    "print(\"Beginning Data Retrieval     \")\n",
    "print(\"-----------------------------\")\n",
    "\n",
    "# Create counters\n",
    "record_count = 1\n",
    "set_count = 1\n",
    "\n",
    "# Loop through all the cities in our list to fetch weather data\n",
    "for i, city in enumerate(cities):\n",
    "\n",
    "    # Group cities in sets of 50 for logging purposes\n",
    "    if (i % 50 == 0 and i >= 50):\n",
    "        set_count += 1\n",
    "        record_count = 0\n",
    "\n",
    "    # Create endpoint URL with each city\n",
    "    city_url = f\"{url}?q={city}&appid={weather_api_key}\"\n",
    "\n",
    "    # Log the url, record, and set numbers\n",
    "    print(\"Processing Record %s of Set %s | %s\" % (record_count, set_count, city))\n",
    "\n",
    "    # Add 1 to the record count\n",
    "    record_count += 1\n",
    "\n",
    "    # Run an API request for each of the cities\n",
    "    try:\n",
    "        # Parse the JSON and retrieve data\n",
    "        city_weather = requests.get(city_url).json()\n",
    "\n",
    "        # Parse out latitude, longitude, max temp, humidity, cloudiness, wind speed, country, and date\n",
    "        city_lat = city_weather[\"coord\"][\"lat\"]\n",
    "        city_lng = city_weather[\"coord\"][\"lon\"]\n",
    "        city_max_temp = city_weather[\"main\"][\"temp_max\"]\n",
    "        city_humidity = city_weather[\"main\"][\"humidity\"]\n",
    "        city_clouds = city_weather[\"clouds\"][\"all\"]\n",
    "        city_wind = city_weather[\"wind\"][\"speed\"]\n",
    "        city_country = city_weather[\"sys\"][\"country\"]\n",
    "        city_date = city_weather[\"dt\"]\n",
    "\n",
    "        # Append the City information into city_data list\n",
    "        city_data.append({\"City\": city,\n",
    "                          \"Lat\": city_lat,\n",
    "                          \"Lng\": city_lng,\n",
    "                          \"Max Temp\": city_max_temp,\n",
    "                          \"Humidity\": city_humidity,\n",
    "                          \"Cloudiness\": city_clouds,\n",
    "                          \"Wind Speed\": city_wind,\n",
    "                          \"Country\": city_country,\n",
    "                          \"Date\": city_date})\n",
    "\n",
    " # If an error is experienced, skip the city\n",
    "    except Exception as e:\n",
    "        print(f\"City not found. Skipping... Error: {e}\")\n",
    "        pass\n",
    "\n",
    "    # pause to avoid rate limiting\n",
    "    time.sleep(1)\n",
    "\n",
    "# Indicate that Data Loading is complete\n",
    "print(\"-----------------------------\")\n",
    "print(\"Data Retrieval Complete      \")\n",
    "print(\"-----------------------------\")"
   ]
  },
  {
   "cell_type": "code",
   "execution_count": null,
   "metadata": {},
   "outputs": [],
   "source": [
    "# Convert the cities weather data into a Pandas DataFrame\n",
    "import pandas as pd\n",
    "\n",
    "# Convert the cities weather data into a Pandas DataFrame\n",
    "city_data_df = pd.DataFrame(city_data)\n",
    "\n",
    "# Show Record Count\n",
    "print(city_data_df.count())"
   ]
  },
  {
   "cell_type": "code",
   "execution_count": null,
   "metadata": {},
   "outputs": [],
   "source": [
    "# Display sample data\n",
    "city_data_df.head()"
   ]
  },
  {
   "cell_type": "code",
   "execution_count": null,
   "metadata": {},
   "outputs": [],
   "source": [
    "# Export the City_Data into a csv\n",
    "city_data_df.to_csv(\"output_data/cities.csv\", index_label=\"City_ID\")"
   ]
  },
  {
   "cell_type": "code",
   "execution_count": null,
   "metadata": {},
   "outputs": [],
   "source": [
    "# Read saved data\n",
    "city_data_df = pd.read_csv(\"output_data/cities.csv\", index_col=\"City_ID\")\n",
    "\n",
    "# Display sample data\n",
    "city_data_df"
   ]
  },
  {
   "cell_type": "markdown",
   "metadata": {},
   "source": [
    "### Create the Scatter Plots Requested\n",
    "\n",
    "#### Latitude Vs. Temperature"
   ]
  },
  {
   "cell_type": "code",
   "execution_count": null,
   "metadata": {
    "tags": []
   },
   "outputs": [],
   "source": [
    "# Build scatter plot for latitude vs. temperature\n",
    "import matplotlib.pyplot as plt\n",
    "\n",
    "# Assuming you have latitude and temperature data in two lists: latitude_data and temperature_data\n",
    "# Replace latitude_data and temperature_data with your actual data\n",
    "\n",
    "plt.scatter([city['Lat'] for city in city_data], [city['Max Temp'] for city in city_data], marker=\"o\", color=\"skyblue\", edgecolors=\"black\")\n",
    "plt.title(\"Latitude vs. Temperature\")\n",
    "plt.xlabel(\"Latitude\")\n",
    "plt.ylabel(\"Temperature (F)\")\n",
    "plt.grid(True)\n",
    "\n",
    "plt.savefig(\"output_data/Fig1.png\")\n",
    "plt.show()\n"
   ]
  },
  {
   "cell_type": "markdown",
   "metadata": {},
   "source": [
    "#### Latitude Vs. Humidity"
   ]
  },
  {
   "cell_type": "code",
   "execution_count": null,
   "metadata": {},
   "outputs": [],
   "source": [
    "import matplotlib.pyplot as plt\n",
    "\n",
    "# Assuming you have latitude and humidity data in two lists: latitude_data and humidity_data\n",
    "# Replace latitude_data and humidity_data with your actual data\n",
    "\n",
    "plt.scatter([city['Lat'] for city in city_data], [city['Humidity'] for city in city_data], marker=\"o\", color=\"red\", edgecolors=\"black\")\n",
    "plt.title(\"Latitude vs. Humidity\")\n",
    "plt.xlabel(\"Latitude\")\n",
    "plt.ylabel(\"Humidity (%)\")\n",
    "plt.grid(True)\n",
    "\n",
    "# Save the figure\n",
    "plt.savefig(\"output_data/Fig2.png\")\n",
    "\n",
    "# Show plot\n",
    "plt.show()"
   ]
  },
  {
   "cell_type": "markdown",
   "metadata": {},
   "source": [
    "#### Latitude Vs. Cloudiness"
   ]
  },
  {
   "cell_type": "code",
   "execution_count": null,
   "metadata": {},
   "outputs": [],
   "source": [
    "import matplotlib.pyplot as plt\n",
    "\n",
    "# Assuming you have latitude and cloudiness data in two lists: latitude_data and cloudiness_data\n",
    "# Replace latitude_data and cloudiness_data with your actual data\n",
    "\n",
    "plt.scatter([city['Lat'] for city in city_data], [city['Cloudiness'] for city in city_data], marker=\"o\", color=\"lightgreen\", edgecolors=\"black\")\n",
    "plt.title(\"Latitude vs. Cloudiness\")\n",
    "plt.xlabel(\"Latitude\")\n",
    "plt.ylabel(\"Cloudiness (%)\")\n",
    "plt.grid(True)\n",
    "\n",
    "# Save the figure\n",
    "plt.savefig(\"output_data/Fig3.png\")\n",
    "\n",
    "# Show plot\n",
    "plt.show()"
   ]
  },
  {
   "cell_type": "markdown",
   "metadata": {},
   "source": [
    "#### Latitude vs. Wind Speed Plot"
   ]
  },
  {
   "cell_type": "code",
   "execution_count": null,
   "metadata": {},
   "outputs": [],
   "source": [
    "import matplotlib.pyplot as plt\n",
    "\n",
    "# Assuming you have latitude and wind speed data in two lists: latitude_data and wind_speed_data\n",
    "# Replace latitude_data and wind_speed_data with your actual data\n",
    "\n",
    "plt.scatter([city['Lat'] for city in city_data], [city['Wind Speed'] for city in city_data], marker=\"o\", color=\"gold\", edgecolors=\"black\")\n",
    "plt.title(\"Latitude vs. Wind Speed\")\n",
    "plt.xlabel(\"Latitude\")\n",
    "plt.ylabel(\"Wind Speed (m/s)\")\n",
    "plt.grid(True)\n",
    "\n",
    "plt.show()\n",
    "\n",
    "# Save the figure\n",
    "plt.savefig(\"output_data/Fig4.png\")\n",
    "\n",
    "# Show plot\n",
    "plt.show()"
   ]
  },
  {
   "cell_type": "markdown",
   "metadata": {},
   "source": [
    "---\n",
    "\n",
    "## Requirement 2: Compute Linear Regression for Each Relationship\n"
   ]
  },
  {
   "cell_type": "code",
   "execution_count": null,
   "metadata": {},
   "outputs": [],
   "source": [
    "# Define a function to create Linear Regression plots\n",
    "def create_linear_regression_plot(x_data, y_data, x_label, y_label, title):\n",
    "    # Perform linear regression\n",
    "    slope, intercept, r_value, p_value, std_err = linregress(x_data, y_data)"
   ]
  },
  {
   "cell_type": "code",
   "execution_count": null,
   "metadata": {},
   "outputs": [],
   "source": [
    "northern_df = [city for city in city_data if city['Lat'] >= 0]\n",
    "\n",
    "# Create a DataFrame using the filtered Northern Hemisphere data\n",
    "northern_df = pd.DataFrame(northern_df)\n",
    "\n",
    "# Display the DataFrame with Northern Hemisphere data\n",
    "print(northern_df)\n"
   ]
  },
  {
   "cell_type": "code",
   "execution_count": null,
   "metadata": {},
   "outputs": [],
   "source": [
    "import pandas as pd\n",
    "\n",
    "# Assuming southern_df is a list of dictionaries\n",
    "southern_df = [city for city in city_data if city['Lat'] <= 0]\n",
    "\n",
    "# Create a DataFrame from the list of dictionaries\n",
    "southern_df = pd.DataFrame(southern_df)\n",
    "\n",
    "# Display the DataFrame\n",
    "print(southern_df)"
   ]
  },
  {
   "cell_type": "markdown",
   "metadata": {},
   "source": [
    "###  Temperature vs. Latitude Linear Regression Plot"
   ]
  },
  {
   "cell_type": "code",
   "execution_count": null,
   "metadata": {},
   "outputs": [],
   "source": [
    "import matplotlib.pyplot as plt\n",
    "from scipy.stats import linregress\n",
    "\n",
    "# Set the figure size\n",
    "plt.figure(figsize=(10, 6))  \n",
    "\n",
    "# Create a scatter plot\n",
    "plt.scatter(northern_df['Lat'], northern_df['Max Temp'], color='blue', alpha=0.6, edgecolors='black')\n",
    "plt.xlabel('Latitude')\n",
    "plt.ylabel('Max Temp (F)')\n",
    "plt.title('Temperature vs. Latitude in the Northern Hemisphere')\n",
    "\n",
    "# Perform linear regression\n",
    "slope, intercept, r_value, p_value, std_err = linregress(northern_df['Lat'], northern_df['Max Temp'])\n",
    "\n",
    "# Calculate the regression line\n",
    "regression_line = slope * northern_df['Lat'] + intercept\n",
    "\n",
    "# Plot the regression line\n",
    "plt.plot(northern_df['Lat'], regression_line, color='red', linewidth=2)\n",
    "\n",
    "# Annotate the regression equation on the plot\n",
    "equation = f\"y = {slope:.2f}x + {intercept:.2f}\"\n",
    "plt.text(northern_df['Lat'].mean(), northern_df['Max Temp'].max(), equation, color='red', fontsize=12)\n",
    "\n",
    "#Annotate the chart with the r-value\n",
    "plt.text(-0.1, 1.1, f'R-Value: {r_value:.2f}', transform=plt.gca().transAxes, fontsize=12, color='black')\n",
    "\n",
    "plt.show()\n"
   ]
  },
  {
   "cell_type": "code",
   "execution_count": null,
   "metadata": {},
   "outputs": [],
   "source": [
    "import matplotlib.pyplot as plt\n",
    "from scipy.stats import linregress\n",
    "\n",
    "# Set the figure size\n",
    "plt.figure(figsize=(10, 6))  \n",
    "\n",
    "# Create a scatter plot\n",
    "plt.scatter(southern_df['Lat'],southern_df ['Max Temp'], color='blue', alpha=0.6, edgecolors='black')\n",
    "plt.xlabel('Latitude')\n",
    "plt.ylabel('Max Temp(F)')\n",
    "plt.title('Temperature vs. Latitude in the Southern Hemisphere')\n",
    "\n",
    "\n",
    "# Perform linear regression\n",
    "slope, intercept, r_value, p_value, std_err = linregress(southern_df['Lat'], southern_df['Max Temp'])\n",
    "\n",
    "# Calculate the regression line\n",
    "regression_line = slope * southern_df['Lat'] + intercept\n",
    "\n",
    "# Plot the regression line\n",
    "plt.plot(southern_df['Lat'], regression_line, color='red', linewidth=2)\n",
    "\n",
    "# Annotate the regression equation on the plot\n",
    "equation = f\"y = {slope:.2f}x + {intercept:.2f}\"\n",
    "plt.text(southern_df['Lat'].mean(), southern_df['Max Temp'].max(), equation, color='red', fontsize=12)\n",
    "\n",
    "#Annotate the chart with the r-value\n",
    "plt.text(-0.1, 1.1, f'R-Value: {r_value:.2f}', transform=plt.gca().transAxes, fontsize=12, color='black')\n",
    "\n",
    "# Display the plot\n",
    "plt.show()"
   ]
  },
  {
   "cell_type": "markdown",
   "metadata": {},
   "source": [
    "**Discussion about the linear relationship: **TEMPERATURE AND LATITUDE  \r\n",
    "\r\n",
    "\r\n",
    "The scatter plots above demonstrate that there is a correlation between latitude and temperature. The Southern Hemisphere plot has a positive slope (y=0.49) which suggests that as you move further south, the temperature tends to increase. The Northern Hemisphere plot has a negative slope (y=0.28) which demonstrates a negative trend downwards, that is, as you move further north the temperatures generally increase. If we consider latitude as the independent variable and the temperature of the dependant variable, these visualisations provide a linear relationship between where a city is situated in relation to the Earth's equator (the latitude) will correlate to a change in temperature in that city. \n"
   ]
  },
  {
   "cell_type": "markdown",
   "metadata": {},
   "source": [
    "### Humidity vs. Latitude Linear Regression Plot"
   ]
  },
  {
   "cell_type": "code",
   "execution_count": null,
   "metadata": {},
   "outputs": [],
   "source": [
    "# Northern Hemisphere\n",
    "import pandas as pd\n",
    "import matplotlib.pyplot as plt\n",
    "from scipy.stats import linregress\n",
    "\n",
    "# Set the figure size\n",
    "plt.figure(figsize=(10, 6))\n",
    "\n",
    "# Create a scatter plot\n",
    "plt.scatter(northern_df['Lat'], northern_df['Humidity'], color='blue', alpha=0.6, edgecolors='black')\n",
    "plt.xlabel('Latitude')\n",
    "plt.ylabel('Humidity (%)')\n",
    "plt.title('Humidity vs. Latitude in the Northern Hemisphere')\n",
    "\n",
    "# Perform linear regression\n",
    "slope, intercept, r_value, p_value, std_err = linregress(northern_df['Lat'], northern_df['Humidity'])\n",
    "\n",
    "# Calculate the regression line\n",
    "regression_line = slope * northern_df['Lat'] + intercept\n",
    "\n",
    "# Plot the regression line\n",
    "plt.plot(northern_df['Lat'], regression_line, color='red', linewidth=2)\n",
    "\n",
    "# Annotate the regression equation on the plot\n",
    "equation = f\"y = {slope:.2f}x + {intercept:.2f}\"\n",
    "plt.text(northern_df['Lat'].min(), northern_df['Humidity'].max(), equation, color='red', fontsize=12)\n",
    "\n",
    "#Annotate the chart with the r-value\n",
    "plt.text(-0.1, 1.1, f'R-Value: {r_value:.2f}', transform=plt.gca().transAxes, fontsize=12, color='black')\n",
    "\n",
    "# Display the plot\n",
    "plt.show()"
   ]
  },
  {
   "cell_type": "code",
   "execution_count": null,
   "metadata": {},
   "outputs": [],
   "source": [
    "# Southern Hemisphere\n",
    "import pandas as pd\n",
    "import matplotlib.pyplot as plt\n",
    "from scipy.stats import linregress\n",
    "\n",
    "# Set the figure size\n",
    "plt.figure(figsize=(10, 6))\n",
    "\n",
    "# Create a scatter plot\n",
    "plt.scatter(southern_df['Lat'], southern_df['Humidity'], color='blue', alpha=0.6, edgecolors='black')\n",
    "plt.xlabel('Latitude')\n",
    "plt.ylabel('Humidity (%)')\n",
    "plt.title('Humidity vs. Latitude in the Southern Hemisphere')\n",
    "\n",
    "# Perform linear regression\n",
    "slope, intercept, r_value, p_value, std_err = linregress(southern_df['Lat'], southern_df['Humidity'])\n",
    "\n",
    "# Calculate the regression line\n",
    "regression_line = slope * southern_df['Lat'] + intercept\n",
    "\n",
    "# Plot the regression line\n",
    "plt.plot(southern_df['Lat'], regression_line, color='red', linewidth=2)\n",
    "\n",
    "# Annotate the regression equation on the plot\n",
    "equation = f\"y = {slope:.2f}x + {intercept:.2f}\"\n",
    "plt.text(southern_df['Lat'].min(), southern_df['Humidity'].max(), equation, color='red', fontsize=12)\n",
    "\n",
    "#Annotate the chart with the r-value\n",
    "plt.text(-0.1, 1.1, 'R-Value: 0.85', transform=plt.gca().transAxes, fontsize=12, color='black')\n",
    "\n",
    "# Display the plot\n",
    "plt.show()"
   ]
  },
  {
   "cell_type": "markdown",
   "metadata": {},
   "source": [
    "**Discussion about the linear relationship: ** HUMIDITY AND LATITIUDE:  \r\n",
    "\r\n",
    "\r\n",
    "The visual charts above that plot the correlations between humidity and latitude demonstrate a weak linear relationship between these two variables. The Northern hemisphere chart plots a regression slope of (y=0.04) and the Southern hemisphere (y=-0.03), suggesting they have similar correlations both positively and negatively. That is, the humidity of a city will have minimal changes (increases or decreases) with each change in the position of the city in relation to the Earth's eqor.uat\n",
    "\n",
    "\n",
    "\n"
   ]
  },
  {
   "cell_type": "markdown",
   "metadata": {},
   "source": [
    "### Cloudiness vs. Latitude Linear Regression Plot"
   ]
  },
  {
   "cell_type": "code",
   "execution_count": null,
   "metadata": {},
   "outputs": [],
   "source": [
    "# Northern Hemisphere\n",
    "import pandas as pd\n",
    "import matplotlib.pyplot as plt\n",
    "from scipy.stats import linregress\n",
    "\n",
    "# Set the figure size\n",
    "plt.figure(figsize=(10, 6))\n",
    "\n",
    "# Create a scatter plot\n",
    "plt.scatter(northern_df['Lat'], northern_df['Cloudiness'], color='blue', alpha=0.6, edgecolors='black')\n",
    "plt.xlabel('Latitude')\n",
    "plt.ylabel('Cloudiness (%)')\n",
    "plt.title('Cloudiness vs. Latitude in the Northern Hemisphere')\n",
    "\n",
    "# Perform linear regression\n",
    "slope, intercept, r_value, p_value, std_err = linregress(northern_df['Lat'],northern_df['Cloudiness'])\n",
    "\n",
    "# Calculate the regression line\n",
    "regression_line = slope * northern_df['Lat'] + intercept\n",
    "\n",
    "# Plot the regression line\n",
    "plt.plot(northern_df['Lat'], regression_line, color='red', linewidth=2)\n",
    "\n",
    "# Annotate the regression equation on the plot\n",
    "equation = f\"y = {slope:.2f}x + {intercept:.2f}\"\n",
    "plt.text(northern_df['Lat'].min(), northern_df['Cloudiness'].max(), equation, color='red', fontsize=12)\n",
    "\n",
    "\n",
    "#Annotate the chart with the r-value\n",
    "plt.text(-0.1, 1.1, f'R-Value: {r_value:.2f}', transform=plt.gca().transAxes, fontsize=12, color='black')\n",
    "\n",
    "# Display the plot\n",
    "plt.show()"
   ]
  },
  {
   "cell_type": "code",
   "execution_count": null,
   "metadata": {},
   "outputs": [],
   "source": [
    "# Southern Hemisphere\n",
    "import pandas as pd\n",
    "import matplotlib.pyplot as plt\n",
    "from scipy.stats import linregress\n",
    "\n",
    "# Set the figure size\n",
    "plt.figure(figsize=(10, 6))\n",
    "\n",
    "# Create a scatter plot\n",
    "plt.scatter(southern_df['Lat'], southern_df['Cloudiness'], color='blue', alpha=0.6, edgecolors='black')\n",
    "plt.xlabel('Latitude')\n",
    "plt.ylabel('Cloudiness (%)')\n",
    "plt.title('Cloudiness vs. Latitude in the Southern Hemisphere')\n",
    "\n",
    "# Perform linear regression\n",
    "slope, intercept, r_value, p_value, std_err = linregress(southern_df['Lat'], southern_df['Cloudiness'])\n",
    "\n",
    "# Calculate the regression line\n",
    "regression_line = slope * southern_df['Lat'] + intercept\n",
    "\n",
    "# Plot the regression line\n",
    "plt.plot(southern_df['Lat'], regression_line, color='red', linewidth=2)\n",
    "\n",
    "# Annotate the regression equation on the plot\n",
    "equation = f\"y = {slope:.2f}x + {intercept:.2f}\"\n",
    "plt.text(southern_df['Lat'].min(), southern_df['Cloudiness'].max(), equation, color='red', fontsize=12)\n",
    "\n",
    "#Annotate the chart with the r-value\n",
    "plt.text(-0.1, 1.1, f'R-Value: {r_value:.2f}', transform=plt.gca().transAxes, fontsize=12, color='black')\n",
    "\n",
    "# Display the plot\n",
    "plt.show()"
   ]
  },
  {
   "cell_type": "markdown",
   "metadata": {},
   "source": [
    "**Discussion about the linear relationship: ** CLOUDINESS AND LATITUDE: \r",
    " \r\n",
    "\r\n",
    "The correlation charts above reflect different correlations for the Northern and Southern hemispheres in relation to cloudiness levels. In the Northern hemisphere the slope is nearly horizontal (y=0.01), and therefore indicates that cities in the Northern hemisphere will ha very little change in terms of cloudiness s regardless of their location relative to the Earth's equator. In the Southern hemisphere however, there is a positive correlation (y=0.35) between change in the position of a city and the level of cloudiness presere. This chart demonstrates that if a city in the Southern Hemisphere is located closer to the equatore greater levels of cloudiness will exist. "
   ]
  },
  {
   "cell_type": "markdown",
   "metadata": {},
   "source": [
    "### Wind Speed vs. Latitude Linear Regression Plot"
   ]
  },
  {
   "cell_type": "code",
   "execution_count": null,
   "metadata": {},
   "outputs": [],
   "source": [
    "# Northern Hemisphere\n",
    "import pandas as pd\n",
    "import matplotlib.pyplot as plt\n",
    "from scipy.stats import linregress\n",
    "\n",
    "# Set the figure size\n",
    "plt.figure(figsize=(10, 6))\n",
    "\n",
    "# Create a scatter plot\n",
    "plt.scatter(northern_df['Lat'], northern_df['Wind Speed'], color='blue', alpha=0.6, edgecolors='black')\n",
    "plt.xlabel('Latitude')\n",
    "plt.ylabel('Wind Speed (m/s)')\n",
    "plt.title('Wind Speed vs. Latitude in the Northern Hemisphere')\n",
    "\n",
    "# Perform linear regression\n",
    "slope, intercept, r_value, p_value, std_err = linregress(northern_df['Lat'], northern_df['Wind Speed'])\n",
    "\n",
    "# Calculate the regression line\n",
    "regression_line = slope * northern_df['Lat'] + intercept\n",
    "\n",
    "# Plot the regression line\n",
    "plt.plot(northern_df['Lat'], regression_line, color='red', linewidth=2)\n",
    "\n",
    "# Annotate the regression equation on the plot\n",
    "equation = f\"y = {slope:.2f}x + {intercept:.2f}\"\n",
    "plt.text(northern_df['Lat'].min(), northern_df['Wind Speed'].max(), equation, color='red', fontsize=12)\n",
    "\n",
    "\n",
    "#Annotate the chart with the r-value\n",
    "plt.text(-0.1, 1.1, f'R-Value: {r_value:.2f}', transform=plt.gca().transAxes, fontsize=12, color='black')\n",
    "\n",
    "# Display the plot\n",
    "plt.show()"
   ]
  },
  {
   "cell_type": "code",
   "execution_count": null,
   "metadata": {},
   "outputs": [],
   "source": [
    "# Southern Hemisphere\n",
    "import pandas as pd\n",
    "import matplotlib.pyplot as plt\n",
    "from scipy.stats import linregress\n",
    "\n",
    "# Set the figure size\n",
    "plt.figure(figsize=(10, 6))\n",
    "\n",
    "# Create a scatter plot\n",
    "plt.scatter(southern_df['Lat'], southern_df['Wind Speed'], color='blue', alpha=0.6, edgecolors='black')\n",
    "plt.xlabel('Latitude')\n",
    "plt.ylabel('Wind Speed (m/s)')\n",
    "plt.title('Wind Speed vs. Latitude in the Southern Hemisphere')\n",
    "\n",
    "# Perform linear regression\n",
    "slope, intercept, r_value, p_value, std_err = linregress(southern_df['Lat'], southern_df['Wind Speed'])\n",
    "\n",
    "# Calculate the regression line\n",
    "regression_line = slope * southern_df['Lat'] + intercept\n",
    "\n",
    "# Plot the regression line\n",
    "plt.plot(southern_df['Lat'], regression_line, color='red', linewidth=2)\n",
    "\n",
    "# Annotate the regression equation on the plot\n",
    "equation = f\"y = {slope:.2f}x + {intercept:.2f}\"\n",
    "plt.text(southern_df['Lat'].min(), southern_df['Wind Speed'].max(), equation, color='red', fontsize=12)\n",
    "\n",
    "#Annotate the chart with the r-value\n",
    "plt.text(-0.1, 1.1, f'R-Value: {r_value:.2f}', transform=plt.gca().transAxes, fontsize=12, color='black')\n",
    "\n",
    "# Display the plot\n",
    "plt.show()"
   ]
  },
  {
   "cell_type": "markdown",
   "metadata": {},
   "source": [
    "**Discussion about the linear relationship: ** WIND SPEED AND LATITITUDE: \r\n",
    "\r\n",
    "\r\n",
    "The above correlation plot charts show the relationships between wind speed and where a city is located (in terms of latitude) in either the Northen Hemisphere or Southern Hemisphere. In the Northern Hemisphere there is a small inverse correlation (y=-0.01) that would suggest that the further a city is located from the equator, the less windy (or speed of wind) it is. However, in the Southern hemisph,ere the charts suggest that there is no relationshbetweeen the distance ar a city is from the equator and the wind speed in thatty. ci\n",
    "\n",
    "Overall \r\n",
    "\r\n",
    "These plots provide interesting visual information that may be important when considering a city one might prefer to live in if temperature, humidity, cloudiness and wind speed are priorities for consideration.  These correlations can help with decisions for individuals and populations on where they may like to be situated. For example, if you prefer a hot climate, you are more likely to experience this in city that is in the Southern hemisphere far from the eq. as B If however, one is keen for cloudy cover, they could consider a city close in the Southern hemisphere close to the or. ty. "
   ]
  },
  {
   "cell_type": "code",
   "execution_count": null,
   "metadata": {},
   "outputs": [],
   "source": []
  },
  {
   "cell_type": "code",
   "execution_count": null,
   "metadata": {},
   "outputs": [],
   "source": []
  },
  {
   "cell_type": "code",
   "execution_count": null,
   "metadata": {},
   "outputs": [],
   "source": []
  },
  {
   "cell_type": "code",
   "execution_count": null,
   "metadata": {},
   "outputs": [],
   "source": []
  },
  {
   "cell_type": "code",
   "execution_count": null,
   "metadata": {},
   "outputs": [],
   "source": []
  }
 ],
 "metadata": {
  "anaconda-cloud": {},
  "kernel_info": {
   "name": "python3"
  },
  "kernelspec": {
   "display_name": "Python 3 (ipykernel)",
   "language": "python",
   "name": "python3"
  },
  "language_info": {
   "codemirror_mode": {
    "name": "ipython",
    "version": 3
   },
   "file_extension": ".py",
   "mimetype": "text/x-python",
   "name": "python",
   "nbconvert_exporter": "python",
   "pygments_lexer": "ipython3",
   "version": "3.11.7"
  },
  "latex_envs": {
   "LaTeX_envs_menu_present": true,
   "autoclose": false,
   "autocomplete": true,
   "bibliofile": "biblio.bib",
   "cite_by": "apalike",
   "current_citInitial": 1,
   "eqLabelWithNumbers": true,
   "eqNumInitial": 1,
   "hotkeys": {
    "equation": "Ctrl-E",
    "itemize": "Ctrl-I"
   },
   "labels_anchors": false,
   "latex_user_defs": false,
   "report_style_numbering": false,
   "user_envs_cfg": false
  },
  "nteract": {
   "version": "0.12.3"
  }
 },
 "nbformat": 4,
 "nbformat_minor": 4
}
